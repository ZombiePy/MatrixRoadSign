{
  "nbformat": 4,
  "nbformat_minor": 0,
  "metadata": {
    "colab": {
      "name": "day3.ipynb",
      "provenance": [],
      "mount_file_id": "1041XT2gFguE5Dp-u67il_Rnb_Dj4DAFg",
      "authorship_tag": "ABX9TyOf5yPjK7yDlesga6Kys/Zb",
      "include_colab_link": true
    },
    "kernelspec": {
      "name": "python3",
      "display_name": "Python 3"
    },
    "accelerator": "GPU"
  },
  "cells": [
    {
      "cell_type": "markdown",
      "metadata": {
        "id": "view-in-github",
        "colab_type": "text"
      },
      "source": [
        "<a href=\"https://colab.research.google.com/github/ZombiePy/MatrixRoadSign/blob/master/day3.ipynb\" target=\"_parent\"><img src=\"https://colab.research.google.com/assets/colab-badge.svg\" alt=\"Open In Colab\"/></a>"
      ]
    },
    {
      "cell_type": "code",
      "metadata": {
        "id": "Y-GrNvkJUs8g",
        "colab_type": "code",
        "outputId": "4f798856-4e6a-4f93-d5c9-a5022078fccf",
        "colab": {
          "base_uri": "https://localhost:8080/",
          "height": 34
        }
      },
      "source": [
        "cd '/content/drive/My Drive/Colab Notebooks/MatrixRoadSign/MatrixRoadSign'"
      ],
      "execution_count": 0,
      "outputs": [
        {
          "output_type": "stream",
          "text": [
            "/content/drive/My Drive/Colab Notebooks/MatrixRoadSign/MatrixRoadSign\n"
          ],
          "name": "stdout"
        }
      ]
    },
    {
      "cell_type": "code",
      "metadata": {
        "id": "5-338RaXVH7i",
        "colab_type": "code",
        "outputId": "10134540-a67e-4b50-9720-59f8ae062c8b",
        "colab": {
          "base_uri": "https://localhost:8080/",
          "height": 34
        }
      },
      "source": [
        "ls"
      ],
      "execution_count": 0,
      "outputs": [
        {
          "output_type": "stream",
          "text": [
            "\u001b[0m\u001b[01;34mdata\u001b[0m/  day2.ipynb  LICENSE  README.md\n"
          ],
          "name": "stdout"
        }
      ]
    },
    {
      "cell_type": "code",
      "metadata": {
        "id": "atpfMUdeVIyu",
        "colab_type": "code",
        "outputId": "67649b40-6757-4fef-dca8-61319d94ce0a",
        "colab": {
          "base_uri": "https://localhost:8080/",
          "height": 52
        }
      },
      "source": [
        "import pandas as pd\n",
        "import numpy as np\n",
        "\n",
        "import os\n",
        "import datetime\n",
        "\n",
        "import tensorflow as tf\n",
        "from tensorflow.keras.models import Sequential\n",
        "from tensorflow.keras.layers import Conv2D, MaxPool2D, Dense, Flatten, Dropout\n",
        "from tensorflow.keras.utils import to_categorical\n",
        "\n",
        "%load_ext tensorboard"
      ],
      "execution_count": 0,
      "outputs": [
        {
          "output_type": "stream",
          "text": [
            "The tensorboard extension is already loaded. To reload it, use:\n",
            "  %reload_ext tensorboard\n"
          ],
          "name": "stdout"
        }
      ]
    },
    {
      "cell_type": "code",
      "metadata": {
        "id": "e2H6q3O2V2Nu",
        "colab_type": "code",
        "colab": {}
      },
      "source": [
        "train = pd.read_pickle('data/train.p')\n",
        "test = pd.read_pickle('data/test.p')\n",
        "\n",
        "X_train, y_train = train['features'], train['labels']\n",
        "X_test, y_test = test['features'], test['labels']"
      ],
      "execution_count": 0,
      "outputs": []
    },
    {
      "cell_type": "code",
      "metadata": {
        "id": "wPBTzwZGWb-P",
        "colab_type": "code",
        "colab": {}
      },
      "source": [
        "if y_train.ndim == 1 : y_train = to_categorical(y_train)\n",
        "if y_test.ndim == 1 : y_test = to_categorical(y_test)"
      ],
      "execution_count": 0,
      "outputs": []
    },
    {
      "cell_type": "code",
      "metadata": {
        "id": "6XRvhDd0WSnw",
        "colab_type": "code",
        "colab": {}
      },
      "source": [
        "input_shape = X_train.shape[1:]\n",
        "num_classes = y_train.shape[1]"
      ],
      "execution_count": 0,
      "outputs": []
    },
    {
      "cell_type": "code",
      "metadata": {
        "id": "CSbCTLD9Wuqf",
        "colab_type": "code",
        "outputId": "6ae8ffd8-d878-4ba3-ade3-cac5ab9e1720",
        "colab": {
          "base_uri": "https://localhost:8080/",
          "height": 294
        }
      },
      "source": [
        "model = Sequential([\n",
        "                    Conv2D(filters=64, kernel_size=(3,3), activation='relu', input_shape=input_shape),\n",
        "\n",
        "                    Flatten(),\n",
        "\n",
        "                    Dense(num_classes, activation='softmax')\n",
        "                    ])\n",
        "\n",
        "model.summary()\n",
        "\n",
        "model.compile(loss='categorical_crossentropy', optimizer='Adam', metrics=['accuracy'])\n",
        "\n",
        "model.fit(X_train, y_train)"
      ],
      "execution_count": 0,
      "outputs": [
        {
          "output_type": "stream",
          "text": [
            "Model: \"sequential\"\n",
            "_________________________________________________________________\n",
            "Layer (type)                 Output Shape              Param #   \n",
            "=================================================================\n",
            "conv2d (Conv2D)              (None, 30, 30, 64)        1792      \n",
            "_________________________________________________________________\n",
            "flatten (Flatten)            (None, 57600)             0         \n",
            "_________________________________________________________________\n",
            "dense (Dense)                (None, 43)                2476843   \n",
            "=================================================================\n",
            "Total params: 2,478,635\n",
            "Trainable params: 2,478,635\n",
            "Non-trainable params: 0\n",
            "_________________________________________________________________\n",
            "1088/1088 [==============================] - 4s 4ms/step - loss: 19.4049 - accuracy: 0.7855\n"
          ],
          "name": "stdout"
        },
        {
          "output_type": "execute_result",
          "data": {
            "text/plain": [
              "<tensorflow.python.keras.callbacks.History at 0x7fda80717da0>"
            ]
          },
          "metadata": {
            "tags": []
          },
          "execution_count": 13
        }
      ]
    },
    {
      "cell_type": "code",
      "metadata": {
        "id": "v7SFD4EcYdZl",
        "colab_type": "code",
        "colab": {}
      },
      "source": [
        "def get_cnn_v1(input_shape, num_classes):\n",
        "  return Sequential([\n",
        "                    Conv2D(filters=64, kernel_size=(3,3), activation='relu', input_shape=input_shape),\n",
        "\n",
        "                    Flatten(),\n",
        "\n",
        "                    Dense(num_classes, activation='softmax')\n",
        "                    ])\n",
        "\n",
        "def train_model(model, X_train, y_train, params_fit={}):\n",
        "\n",
        "  model.compile(loss='categorical_crossentropy', optimizer='Adam', metrics=['accuracy'])\n",
        "\n",
        "  logdir = os.path.join(\"logs\", datetime.datetime.now().strftime(\"%Y%m%d-%H%M%S\"))\n",
        "  tensorboard_callback = tf.keras.callbacks.TensorBoard(logdir, histogram_freq=1)\n",
        "\n",
        "  model.fit(\n",
        "      X_train, \n",
        "      y_train,\n",
        "      batch_size=params_fit.get('batch_size', 128),\n",
        "      epochs=params_fit.get('epochs', 5),\n",
        "      verbose=params_fit.get('verbose', 1),\n",
        "      validation_data=params_fit.get('validation_data', (X_test, y_test)),\n",
        "      callbacks=[tensorboard_callback]\n",
        "      )\n",
        "  return logdir\n",
        "   "
      ],
      "execution_count": 0,
      "outputs": []
    },
    {
      "cell_type": "code",
      "metadata": {
        "id": "p7Ljw5OzZnas",
        "colab_type": "code",
        "outputId": "8e62f5fd-d6b9-48f2-c9c1-01b975cc4393",
        "colab": {
          "base_uri": "https://localhost:8080/",
          "height": 187
        }
      },
      "source": [
        "logdir = train_model(get_cnn_v1(input_shape, num_classes), X_train, y_train)"
      ],
      "execution_count": 0,
      "outputs": [
        {
          "output_type": "stream",
          "text": [
            "Epoch 1/5\n",
            "272/272 [==============================] - 3s 11ms/step - loss: 40.2134 - accuracy: 0.7302 - val_loss: 0.2318 - val_accuracy: 0.9473\n",
            "Epoch 2/5\n",
            "272/272 [==============================] - 3s 10ms/step - loss: 0.2195 - accuracy: 0.9508 - val_loss: 0.2557 - val_accuracy: 0.9552\n",
            "Epoch 3/5\n",
            "272/272 [==============================] - 3s 10ms/step - loss: 0.1199 - accuracy: 0.9717 - val_loss: 0.0793 - val_accuracy: 0.9804\n",
            "Epoch 4/5\n",
            "272/272 [==============================] - 3s 10ms/step - loss: 0.0917 - accuracy: 0.9776 - val_loss: 0.0833 - val_accuracy: 0.9819\n",
            "Epoch 5/5\n",
            "272/272 [==============================] - 3s 10ms/step - loss: 0.0958 - accuracy: 0.9791 - val_loss: 0.0762 - val_accuracy: 0.9812\n"
          ],
          "name": "stdout"
        }
      ]
    },
    {
      "cell_type": "code",
      "metadata": {
        "id": "i8VQ8txOdUpb",
        "colab_type": "code",
        "outputId": "60bcedb3-b875-45e4-febf-ff3a4d3c5903",
        "colab": {
          "base_uri": "https://localhost:8080/",
          "height": 838
        }
      },
      "source": [
        "%tensorboard --logdir logs"
      ],
      "execution_count": 0,
      "outputs": []
    },
    {
      "cell_type": "code",
      "metadata": {
        "id": "ZU-_YVtKeTyh",
        "colab_type": "code",
        "outputId": "eec22d91-452e-42d2-f3cd-358b82b7bd97",
        "colab": {
          "base_uri": "https://localhost:8080/",
          "height": 34
        }
      },
      "source": [
        "def get_cnn_v2(input_shape, num_classes):\n",
        "  return Sequential([\n",
        "                    Conv2D(filters=32, kernel_size=(3,3), activation='relu', input_shape=input_shape),\n",
        "                    \n",
        "                    MaxPool2D(),\n",
        "                    \n",
        "                    Dropout(0.5),\n",
        "                    \n",
        "                    Conv2D(filters=64, kernel_size=(3,3), activation='relu', input_shape=input_shape),\n",
        "                    \n",
        "                    MaxPool2D(),\n",
        "                    \n",
        "                    Dropout(0.3),\n",
        "                    \n",
        "                    Flatten(),\n",
        "                     \n",
        "                    Dense(1024, activation='relu'),\n",
        "                     \n",
        "                    Dropout(0.5),\n",
        "\n",
        "                    Dense(num_classes, activation='softmax')\n",
        "                    ])"
      ],
      "execution_count": 0,
      "outputs": [
        {
          "output_type": "stream",
          "text": [
            "ERROR! Session/line number was not unique in database. History logging moved to new session 60\n"
          ],
          "name": "stdout"
        }
      ]
    },
    {
      "cell_type": "code",
      "metadata": {
        "id": "wVaUmPXce4Ao",
        "colab_type": "code",
        "outputId": "66148200-46ad-42ce-efb7-24918b3736d1",
        "colab": {
          "base_uri": "https://localhost:8080/",
          "height": 867
        }
      },
      "source": [
        "params_fit = {\n",
        "    'epochs': 25\n",
        "}\n",
        "logdir = train_model(get_cnn_v2(input_shape, num_classes), X_train, y_train, params_fit)"
      ],
      "execution_count": 0,
      "outputs": [
        {
          "output_type": "stream",
          "text": [
            "Epoch 1/25\n",
            "272/272 [==============================] - 3s 11ms/step - loss: 8.3885 - accuracy: 0.1305 - val_loss: 2.8058 - val_accuracy: 0.2312\n",
            "Epoch 2/25\n",
            "272/272 [==============================] - 3s 10ms/step - loss: 2.2585 - accuracy: 0.3636 - val_loss: 1.3156 - val_accuracy: 0.6434\n",
            "Epoch 3/25\n",
            "272/272 [==============================] - 3s 10ms/step - loss: 1.2491 - accuracy: 0.6156 - val_loss: 0.5739 - val_accuracy: 0.8534\n",
            "Epoch 4/25\n",
            "272/272 [==============================] - 3s 11ms/step - loss: 0.8352 - accuracy: 0.7384 - val_loss: 0.3494 - val_accuracy: 0.9201\n",
            "Epoch 5/25\n",
            "272/272 [==============================] - 3s 10ms/step - loss: 0.6335 - accuracy: 0.8003 - val_loss: 0.2407 - val_accuracy: 0.9509\n",
            "Epoch 6/25\n",
            "272/272 [==============================] - 3s 10ms/step - loss: 0.5283 - accuracy: 0.8320 - val_loss: 0.1607 - val_accuracy: 0.9671\n",
            "Epoch 7/25\n",
            "272/272 [==============================] - 3s 11ms/step - loss: 0.4567 - accuracy: 0.8575 - val_loss: 0.1458 - val_accuracy: 0.9648\n",
            "Epoch 8/25\n",
            "272/272 [==============================] - 3s 10ms/step - loss: 0.4021 - accuracy: 0.8743 - val_loss: 0.0933 - val_accuracy: 0.9814\n",
            "Epoch 9/25\n",
            "272/272 [==============================] - 3s 10ms/step - loss: 0.3587 - accuracy: 0.8906 - val_loss: 0.1051 - val_accuracy: 0.9726\n",
            "Epoch 10/25\n",
            "272/272 [==============================] - 3s 10ms/step - loss: 0.3307 - accuracy: 0.8970 - val_loss: 0.0742 - val_accuracy: 0.9836\n",
            "Epoch 11/25\n",
            "272/272 [==============================] - 3s 11ms/step - loss: 0.2915 - accuracy: 0.9096 - val_loss: 0.0595 - val_accuracy: 0.9859\n",
            "Epoch 12/25\n",
            "272/272 [==============================] - 3s 11ms/step - loss: 0.2749 - accuracy: 0.9151 - val_loss: 0.0636 - val_accuracy: 0.9840\n",
            "Epoch 13/25\n",
            "272/272 [==============================] - 3s 11ms/step - loss: 0.2678 - accuracy: 0.9190 - val_loss: 0.0432 - val_accuracy: 0.9909\n",
            "Epoch 14/25\n",
            "272/272 [==============================] - 3s 11ms/step - loss: 0.2646 - accuracy: 0.9184 - val_loss: 0.0486 - val_accuracy: 0.9896\n",
            "Epoch 15/25\n",
            "272/272 [==============================] - 3s 11ms/step - loss: 0.2543 - accuracy: 0.9231 - val_loss: 0.0491 - val_accuracy: 0.9874\n",
            "Epoch 16/25\n",
            "272/272 [==============================] - 3s 11ms/step - loss: 0.2493 - accuracy: 0.9251 - val_loss: 0.0450 - val_accuracy: 0.9883\n",
            "Epoch 17/25\n",
            "272/272 [==============================] - 3s 11ms/step - loss: 0.2422 - accuracy: 0.9264 - val_loss: 0.0356 - val_accuracy: 0.9919\n",
            "Epoch 18/25\n",
            "272/272 [==============================] - 3s 10ms/step - loss: 0.2202 - accuracy: 0.9339 - val_loss: 0.0324 - val_accuracy: 0.9916\n",
            "Epoch 19/25\n",
            "272/272 [==============================] - 3s 10ms/step - loss: 0.2434 - accuracy: 0.9285 - val_loss: 0.0343 - val_accuracy: 0.9910\n",
            "Epoch 20/25\n",
            "272/272 [==============================] - 3s 10ms/step - loss: 0.2469 - accuracy: 0.9271 - val_loss: 0.0310 - val_accuracy: 0.9926\n",
            "Epoch 21/25\n",
            "272/272 [==============================] - 3s 11ms/step - loss: 0.2421 - accuracy: 0.9290 - val_loss: 0.0390 - val_accuracy: 0.9902\n",
            "Epoch 22/25\n",
            "272/272 [==============================] - 3s 11ms/step - loss: 0.2174 - accuracy: 0.9356 - val_loss: 0.0251 - val_accuracy: 0.9936\n",
            "Epoch 23/25\n",
            "272/272 [==============================] - 3s 10ms/step - loss: 0.2371 - accuracy: 0.9315 - val_loss: 0.0328 - val_accuracy: 0.9915\n",
            "Epoch 24/25\n",
            "272/272 [==============================] - 3s 10ms/step - loss: 0.2134 - accuracy: 0.9392 - val_loss: 0.0275 - val_accuracy: 0.9915\n",
            "Epoch 25/25\n",
            "272/272 [==============================] - 3s 10ms/step - loss: 0.2112 - accuracy: 0.9392 - val_loss: 0.0277 - val_accuracy: 0.9922\n"
          ],
          "name": "stdout"
        }
      ]
    },
    {
      "cell_type": "code",
      "metadata": {
        "id": "kqEDIXzOe93W",
        "colab_type": "code",
        "colab": {}
      },
      "source": [
        ""
      ],
      "execution_count": 0,
      "outputs": []
    }
  ]
}